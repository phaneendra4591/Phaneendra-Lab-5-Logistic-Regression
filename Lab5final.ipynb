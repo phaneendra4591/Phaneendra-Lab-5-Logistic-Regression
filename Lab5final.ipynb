{
 "cells": [
  {
   "cell_type": "code",
   "execution_count": 1,
   "metadata": {},
   "outputs": [],
   "source": [
    "import numpy as np\n",
    "import pandas as pd\n",
    "x='data1.csv'\n",
    "df = pd.read_csv(x)"
   ]
  },
  {
   "cell_type": "code",
   "execution_count": 30,
   "metadata": {},
   "outputs": [
    {
     "data": {
      "text/html": [
       "<div>\n",
       "<style scoped>\n",
       "    .dataframe tbody tr th:only-of-type {\n",
       "        vertical-align: middle;\n",
       "    }\n",
       "\n",
       "    .dataframe tbody tr th {\n",
       "        vertical-align: top;\n",
       "    }\n",
       "\n",
       "    .dataframe thead th {\n",
       "        text-align: right;\n",
       "    }\n",
       "</style>\n",
       "<table border=\"1\" class=\"dataframe\">\n",
       "  <thead>\n",
       "    <tr style=\"text-align: right;\">\n",
       "      <th></th>\n",
       "      <th>x1</th>\n",
       "      <th>x2</th>\n",
       "      <th>y</th>\n",
       "    </tr>\n",
       "  </thead>\n",
       "  <tbody>\n",
       "    <tr>\n",
       "      <td>count</td>\n",
       "      <td>100.000000</td>\n",
       "      <td>100.000000</td>\n",
       "      <td>100.000000</td>\n",
       "    </tr>\n",
       "    <tr>\n",
       "      <td>mean</td>\n",
       "      <td>5.144230</td>\n",
       "      <td>4.866669</td>\n",
       "      <td>0.500000</td>\n",
       "    </tr>\n",
       "    <tr>\n",
       "      <td>std</td>\n",
       "      <td>2.103965</td>\n",
       "      <td>1.964860</td>\n",
       "      <td>0.502519</td>\n",
       "    </tr>\n",
       "    <tr>\n",
       "      <td>min</td>\n",
       "      <td>0.900800</td>\n",
       "      <td>1.169000</td>\n",
       "      <td>0.000000</td>\n",
       "    </tr>\n",
       "    <tr>\n",
       "      <td>25%</td>\n",
       "      <td>3.469150</td>\n",
       "      <td>3.418175</td>\n",
       "      <td>0.000000</td>\n",
       "    </tr>\n",
       "    <tr>\n",
       "      <td>50%</td>\n",
       "      <td>5.265700</td>\n",
       "      <td>4.927500</td>\n",
       "      <td>0.500000</td>\n",
       "    </tr>\n",
       "    <tr>\n",
       "      <td>75%</td>\n",
       "      <td>6.720625</td>\n",
       "      <td>6.466375</td>\n",
       "      <td>1.000000</td>\n",
       "    </tr>\n",
       "    <tr>\n",
       "      <td>max</td>\n",
       "      <td>8.922100</td>\n",
       "      <td>8.567600</td>\n",
       "      <td>1.000000</td>\n",
       "    </tr>\n",
       "  </tbody>\n",
       "</table>\n",
       "</div>"
      ],
      "text/plain": [
       "               x1          x2           y\n",
       "count  100.000000  100.000000  100.000000\n",
       "mean     5.144230    4.866669    0.500000\n",
       "std      2.103965    1.964860    0.502519\n",
       "min      0.900800    1.169000    0.000000\n",
       "25%      3.469150    3.418175    0.000000\n",
       "50%      5.265700    4.927500    0.500000\n",
       "75%      6.720625    6.466375    1.000000\n",
       "max      8.922100    8.567600    1.000000"
      ]
     },
     "execution_count": 30,
     "metadata": {},
     "output_type": "execute_result"
    }
   ],
   "source": [
    "df.describe()"
   ]
  },
  {
   "cell_type": "code",
   "execution_count": 3,
   "metadata": {},
   "outputs": [
    {
     "data": {
      "text/plain": [
       "<Figure size 640x480 with 1 Axes>"
      ]
     },
     "metadata": {},
     "output_type": "display_data"
    }
   ],
   "source": [
    "import matplotlib.pyplot as plt\n",
    "import numpy as np\n",
    "y=np.array(df['y'])\n",
    "X1=np.array(df['x1'])\n",
    "X2=np.array(df['x2'])\n",
    "col = {}\n",
    "col[0] = 'g'\n",
    "col[1] = 'r'\n",
    "cols = []\n",
    "for i in y:\n",
    "  cols.append(col[i])\n",
    "plt.scatter(X1,X2,c=cols)\n",
    "plt.xlabel('x1')\n",
    "plt.ylabel('x2')\n",
    "plt.show()"
   ]
  },
  {
   "cell_type": "code",
   "execution_count": 4,
   "metadata": {},
   "outputs": [
    {
     "data": {
      "text/plain": [
       "Text(0, 0.5, 'y')"
      ]
     },
     "execution_count": 4,
     "metadata": {},
     "output_type": "execute_result"
    },
    {
     "data": {
      "image/png": "[encoded data removed]",
      "text/plain": [
       "<Figure size 432x288 with 1 Axes>"
      ]
     },
     "metadata": {
      "needs_background": "light"
     },
     "output_type": "display_data"
    }
   ],
   "source": [
    "x = np.linspace(0, 5)\n",
    "y=2*x+3\n",
    "plt.plot(x, y, linestyle='-')\n",
    "plt.title('y = 2*x+3')\n",
    "plt.xlabel('x')\n",
    "plt.ylabel('y')"
   ]
  },
  {
   "cell_type": "code",
   "execution_count": 5,
   "metadata": {},
   "outputs": [],
   "source": [
    "V = np.random.randint(-1000, 1000, size=10)\n",
    "def sigmoid(z):\n",
    "      return 1 / (1 + np.exp(-z))"
   ]
  },
  {
   "cell_type": "code",
   "execution_count": 6,
   "metadata": {},
   "outputs": [],
   "source": [
    "V_sig = sigmoid(V)"
   ]
  },
  {
   "cell_type": "code",
   "execution_count": 7,
   "metadata": {},
   "outputs": [
    {
     "name": "stdout",
     "output_type": "stream",
     "text": [
      "[ 310 -149 -791  734  175  -99  924 -644  148  -91]\n",
      "[1.00000000e+000 1.95039330e-065 0.00000000e+000 1.00000000e+000\n",
      " 1.00000000e+000 1.01122149e-043 1.00000000e+000 2.06230861e-280\n",
      " 1.00000000e+000 3.01440879e-040]\n"
     ]
    }
   ],
   "source": [
    "print(V)\n",
    "print(V_sig)"
   ]
  },
  {
   "cell_type": "code",
   "execution_count": 8,
   "metadata": {},
   "outputs": [],
   "source": [
    "def hypothesis(X,theta):\n",
    "  if(sigmoid(np.dot(X,theta)) > 0.5):\n",
    "    print(0)\n",
    "  else:\n",
    "    print(1)"
   ]
  },
  {
   "cell_type": "code",
   "execution_count": 9,
   "metadata": {},
   "outputs": [],
   "source": [
    "def cost(X,theta,y):\n",
    "  return (-y * np.log(hypothesis(X,theta)) + (1-y) * np.log(1 - hypothesis(X,theta))).mean()"
   ]
  },
  {
   "cell_type": "code",
   "execution_count": 10,
   "metadata": {},
   "outputs": [
    {
     "name": "stdout",
     "output_type": "stream",
     "text": [
      "      Loan_ID  Gender Married Dependents     Education Self_Employed  \\\n",
      "0    LP001002    Male      No          0      Graduate            No   \n",
      "1    LP001003    Male     Yes          1      Graduate            No   \n",
      "2    LP001005    Male     Yes          0      Graduate           Yes   \n",
      "3    LP001006    Male     Yes          0  Not Graduate            No   \n",
      "4    LP001008    Male      No          0      Graduate            No   \n",
      "..        ...     ...     ...        ...           ...           ...   \n",
      "609  LP002978  Female      No          0      Graduate            No   \n",
      "610  LP002979    Male     Yes         3+      Graduate            No   \n",
      "611  LP002983    Male     Yes          1      Graduate            No   \n",
      "612  LP002984    Male     Yes          2      Graduate            No   \n",
      "613  LP002990  Female      No          0      Graduate           Yes   \n",
      "\n",
      "     ApplicantIncome  CoapplicantIncome  LoanAmount  Loan_Amount_Term  \\\n",
      "0               5849                0.0         NaN             360.0   \n",
      "1               4583             1508.0       128.0             360.0   \n",
      "2               3000                0.0        66.0             360.0   \n",
      "3               2583             2358.0       120.0             360.0   \n",
      "4               6000                0.0       141.0             360.0   \n",
      "..               ...                ...         ...               ...   \n",
      "609             2900                0.0        71.0             360.0   \n",
      "610             4106                0.0        40.0             180.0   \n",
      "611             8072              240.0       253.0             360.0   \n",
      "612             7583                0.0       187.0             360.0   \n",
      "613             4583                0.0       133.0             360.0   \n",
      "\n",
      "     Credit_History Property_Area Loan_Status  \n",
      "0               1.0         Urban           Y  \n",
      "1               1.0         Rural           N  \n",
      "2               1.0         Urban           Y  \n",
      "3               1.0         Urban           Y  \n",
      "4               1.0         Urban           Y  \n",
      "..              ...           ...         ...  \n",
      "609             1.0         Rural           Y  \n",
      "610             1.0         Rural           Y  \n",
      "611             1.0         Urban           Y  \n",
      "612             1.0         Urban           Y  \n",
      "613             0.0     Semiurban           N  \n",
      "\n",
      "[614 rows x 13 columns]\n"
     ]
    }
   ],
   "source": [
    "a = 'loan_data.csv'\n",
    "df1 = pd.read_csv(a)\n",
    "print(df1)"
   ]
  },
  {
   "cell_type": "code",
   "execution_count": 11,
   "metadata": {},
   "outputs": [
    {
     "name": "stdout",
     "output_type": "stream",
     "text": [
      "<class 'pandas.core.frame.DataFrame'>\n",
      "RangeIndex: 614 entries, 0 to 613\n",
      "Data columns (total 13 columns):\n",
      "Loan_ID              614 non-null object\n",
      "Gender               601 non-null object\n",
      "Married              611 non-null object\n",
      "Dependents           599 non-null object\n",
      "Education            614 non-null object\n",
      "Self_Employed        582 non-null object\n",
      "ApplicantIncome      614 non-null int64\n",
      "CoapplicantIncome    614 non-null float64\n",
      "LoanAmount           592 non-null float64\n",
      "Loan_Amount_Term     600 non-null float64\n",
      "Credit_History       564 non-null float64\n",
      "Property_Area        614 non-null object\n",
      "Loan_Status          614 non-null object\n",
      "dtypes: float64(4), int64(1), object(8)\n",
      "memory usage: 62.5+ KB\n"
     ]
    }
   ],
   "source": [
    "df1.info()"
   ]
  },
  {
   "cell_type": "code",
   "execution_count": 12,
   "metadata": {},
   "outputs": [],
   "source": [
    "df1 = df1.drop(columns=['Loan_ID'])"
   ]
  },
  {
   "cell_type": "code",
   "execution_count": 13,
   "metadata": {},
   "outputs": [
    {
     "data": {
      "text/html": [
       "<div>\n",
       "<style scoped>\n",
       "    .dataframe tbody tr th:only-of-type {\n",
       "        vertical-align: middle;\n",
       "    }\n",
       "\n",
       "    .dataframe tbody tr th {\n",
       "        vertical-align: top;\n",
       "    }\n",
       "\n",
       "    .dataframe thead th {\n",
       "        text-align: right;\n",
       "    }\n",
       "</style>\n",
       "<table border=\"1\" class=\"dataframe\">\n",
       "  <thead>\n",
       "    <tr style=\"text-align: right;\">\n",
       "      <th></th>\n",
       "      <th>Gender</th>\n",
       "      <th>Married</th>\n",
       "      <th>Dependents</th>\n",
       "      <th>Education</th>\n",
       "      <th>Self_Employed</th>\n",
       "      <th>ApplicantIncome</th>\n",
       "      <th>CoapplicantIncome</th>\n",
       "      <th>LoanAmount</th>\n",
       "      <th>Loan_Amount_Term</th>\n",
       "      <th>Credit_History</th>\n",
       "      <th>Property_Area</th>\n",
       "      <th>Loan_Status</th>\n",
       "    </tr>\n",
       "  </thead>\n",
       "  <tbody>\n",
       "    <tr>\n",
       "      <td>0</td>\n",
       "      <td>Male</td>\n",
       "      <td>No</td>\n",
       "      <td>0</td>\n",
       "      <td>Graduate</td>\n",
       "      <td>No</td>\n",
       "      <td>5849</td>\n",
       "      <td>0.0</td>\n",
       "      <td>NaN</td>\n",
       "      <td>360.0</td>\n",
       "      <td>1.0</td>\n",
       "      <td>Urban</td>\n",
       "      <td>Y</td>\n",
       "    </tr>\n",
       "    <tr>\n",
       "      <td>1</td>\n",
       "      <td>Male</td>\n",
       "      <td>Yes</td>\n",
       "      <td>1</td>\n",
       "      <td>Graduate</td>\n",
       "      <td>No</td>\n",
       "      <td>4583</td>\n",
       "      <td>1508.0</td>\n",
       "      <td>128.0</td>\n",
       "      <td>360.0</td>\n",
       "      <td>1.0</td>\n",
       "      <td>Rural</td>\n",
       "      <td>N</td>\n",
       "    </tr>\n",
       "    <tr>\n",
       "      <td>2</td>\n",
       "      <td>Male</td>\n",
       "      <td>Yes</td>\n",
       "      <td>0</td>\n",
       "      <td>Graduate</td>\n",
       "      <td>Yes</td>\n",
       "      <td>3000</td>\n",
       "      <td>0.0</td>\n",
       "      <td>66.0</td>\n",
       "      <td>360.0</td>\n",
       "      <td>1.0</td>\n",
       "      <td>Urban</td>\n",
       "      <td>Y</td>\n",
       "    </tr>\n",
       "    <tr>\n",
       "      <td>3</td>\n",
       "      <td>Male</td>\n",
       "      <td>Yes</td>\n",
       "      <td>0</td>\n",
       "      <td>Not Graduate</td>\n",
       "      <td>No</td>\n",
       "      <td>2583</td>\n",
       "      <td>2358.0</td>\n",
       "      <td>120.0</td>\n",
       "      <td>360.0</td>\n",
       "      <td>1.0</td>\n",
       "      <td>Urban</td>\n",
       "      <td>Y</td>\n",
       "    </tr>\n",
       "    <tr>\n",
       "      <td>4</td>\n",
       "      <td>Male</td>\n",
       "      <td>No</td>\n",
       "      <td>0</td>\n",
       "      <td>Graduate</td>\n",
       "      <td>No</td>\n",
       "      <td>6000</td>\n",
       "      <td>0.0</td>\n",
       "      <td>141.0</td>\n",
       "      <td>360.0</td>\n",
       "      <td>1.0</td>\n",
       "      <td>Urban</td>\n",
       "      <td>Y</td>\n",
       "    </tr>\n",
       "  </tbody>\n",
       "</table>\n",
       "</div>"
      ],
      "text/plain": [
       "  Gender Married Dependents     Education Self_Employed  ApplicantIncome  \\\n",
       "0   Male      No          0      Graduate            No             5849   \n",
       "1   Male     Yes          1      Graduate            No             4583   \n",
       "2   Male     Yes          0      Graduate           Yes             3000   \n",
       "3   Male     Yes          0  Not Graduate            No             2583   \n",
       "4   Male      No          0      Graduate            No             6000   \n",
       "\n",
       "   CoapplicantIncome  LoanAmount  Loan_Amount_Term  Credit_History  \\\n",
       "0                0.0         NaN             360.0             1.0   \n",
       "1             1508.0       128.0             360.0             1.0   \n",
       "2                0.0        66.0             360.0             1.0   \n",
       "3             2358.0       120.0             360.0             1.0   \n",
       "4                0.0       141.0             360.0             1.0   \n",
       "\n",
       "  Property_Area Loan_Status  \n",
       "0         Urban           Y  \n",
       "1         Rural           N  \n",
       "2         Urban           Y  \n",
       "3         Urban           Y  \n",
       "4         Urban           Y  "
      ]
     },
     "execution_count": 13,
     "metadata": {},
     "output_type": "execute_result"
    }
   ],
   "source": [
    "df1.head()"
   ]
  },
  {
   "cell_type": "code",
   "execution_count": 14,
   "metadata": {},
   "outputs": [
    {
     "data": {
      "text/html": [
       "<div>\n",
       "<style scoped>\n",
       "    .dataframe tbody tr th:only-of-type {\n",
       "        vertical-align: middle;\n",
       "    }\n",
       "\n",
       "    .dataframe tbody tr th {\n",
       "        vertical-align: top;\n",
       "    }\n",
       "\n",
       "    .dataframe thead th {\n",
       "        text-align: right;\n",
       "    }\n",
       "</style>\n",
       "<table border=\"1\" class=\"dataframe\">\n",
       "  <thead>\n",
       "    <tr style=\"text-align: right;\">\n",
       "      <th></th>\n",
       "      <th>ApplicantIncome</th>\n",
       "      <th>CoapplicantIncome</th>\n",
       "      <th>LoanAmount</th>\n",
       "      <th>Loan_Amount_Term</th>\n",
       "      <th>Credit_History</th>\n",
       "      <th>Gender_Male</th>\n",
       "      <th>Married_Yes</th>\n",
       "      <th>Dependents_1</th>\n",
       "      <th>Dependents_2</th>\n",
       "      <th>Dependents_3+</th>\n",
       "      <th>Education_Not Graduate</th>\n",
       "      <th>Self_Employed_Yes</th>\n",
       "      <th>Property_Area_Semiurban</th>\n",
       "      <th>Property_Area_Urban</th>\n",
       "      <th>Loan_Status_Y</th>\n",
       "    </tr>\n",
       "  </thead>\n",
       "  <tbody>\n",
       "    <tr>\n",
       "      <td>0</td>\n",
       "      <td>5849</td>\n",
       "      <td>0.0</td>\n",
       "      <td>NaN</td>\n",
       "      <td>360.0</td>\n",
       "      <td>1.0</td>\n",
       "      <td>1</td>\n",
       "      <td>0</td>\n",
       "      <td>0</td>\n",
       "      <td>0</td>\n",
       "      <td>0</td>\n",
       "      <td>0</td>\n",
       "      <td>0</td>\n",
       "      <td>0</td>\n",
       "      <td>1</td>\n",
       "      <td>1</td>\n",
       "    </tr>\n",
       "    <tr>\n",
       "      <td>1</td>\n",
       "      <td>4583</td>\n",
       "      <td>1508.0</td>\n",
       "      <td>128.0</td>\n",
       "      <td>360.0</td>\n",
       "      <td>1.0</td>\n",
       "      <td>1</td>\n",
       "      <td>1</td>\n",
       "      <td>1</td>\n",
       "      <td>0</td>\n",
       "      <td>0</td>\n",
       "      <td>0</td>\n",
       "      <td>0</td>\n",
       "      <td>0</td>\n",
       "      <td>0</td>\n",
       "      <td>0</td>\n",
       "    </tr>\n",
       "    <tr>\n",
       "      <td>2</td>\n",
       "      <td>3000</td>\n",
       "      <td>0.0</td>\n",
       "      <td>66.0</td>\n",
       "      <td>360.0</td>\n",
       "      <td>1.0</td>\n",
       "      <td>1</td>\n",
       "      <td>1</td>\n",
       "      <td>0</td>\n",
       "      <td>0</td>\n",
       "      <td>0</td>\n",
       "      <td>0</td>\n",
       "      <td>1</td>\n",
       "      <td>0</td>\n",
       "      <td>1</td>\n",
       "      <td>1</td>\n",
       "    </tr>\n",
       "    <tr>\n",
       "      <td>3</td>\n",
       "      <td>2583</td>\n",
       "      <td>2358.0</td>\n",
       "      <td>120.0</td>\n",
       "      <td>360.0</td>\n",
       "      <td>1.0</td>\n",
       "      <td>1</td>\n",
       "      <td>1</td>\n",
       "      <td>0</td>\n",
       "      <td>0</td>\n",
       "      <td>0</td>\n",
       "      <td>1</td>\n",
       "      <td>0</td>\n",
       "      <td>0</td>\n",
       "      <td>1</td>\n",
       "      <td>1</td>\n",
       "    </tr>\n",
       "    <tr>\n",
       "      <td>4</td>\n",
       "      <td>6000</td>\n",
       "      <td>0.0</td>\n",
       "      <td>141.0</td>\n",
       "      <td>360.0</td>\n",
       "      <td>1.0</td>\n",
       "      <td>1</td>\n",
       "      <td>0</td>\n",
       "      <td>0</td>\n",
       "      <td>0</td>\n",
       "      <td>0</td>\n",
       "      <td>0</td>\n",
       "      <td>0</td>\n",
       "      <td>0</td>\n",
       "      <td>1</td>\n",
       "      <td>1</td>\n",
       "    </tr>\n",
       "  </tbody>\n",
       "</table>\n",
       "</div>"
      ],
      "text/plain": [
       "   ApplicantIncome  CoapplicantIncome  LoanAmount  Loan_Amount_Term  \\\n",
       "0             5849                0.0         NaN             360.0   \n",
       "1             4583             1508.0       128.0             360.0   \n",
       "2             3000                0.0        66.0             360.0   \n",
       "3             2583             2358.0       120.0             360.0   \n",
       "4             6000                0.0       141.0             360.0   \n",
       "\n",
       "   Credit_History  Gender_Male  Married_Yes  Dependents_1  Dependents_2  \\\n",
       "0             1.0            1            0             0             0   \n",
       "1             1.0            1            1             1             0   \n",
       "2             1.0            1            1             0             0   \n",
       "3             1.0            1            1             0             0   \n",
       "4             1.0            1            0             0             0   \n",
       "\n",
       "   Dependents_3+  Education_Not Graduate  Self_Employed_Yes  \\\n",
       "0              0                       0                  0   \n",
       "1              0                       0                  0   \n",
       "2              0                       0                  1   \n",
       "3              0                       1                  0   \n",
       "4              0                       0                  0   \n",
       "\n",
       "   Property_Area_Semiurban  Property_Area_Urban  Loan_Status_Y  \n",
       "0                        0                    1              1  \n",
       "1                        0                    0              0  \n",
       "2                        0                    1              1  \n",
       "3                        0                    1              1  \n",
       "4                        0                    1              1  "
      ]
     },
     "execution_count": 14,
     "metadata": {},
     "output_type": "execute_result"
    }
   ],
   "source": [
    "df_encoded = pd.get_dummies(df1,drop_first=True)\n",
    "\n",
    "df_encoded.head()"
   ]
  },
  {
   "cell_type": "code",
   "execution_count": 15,
   "metadata": {},
   "outputs": [],
   "source": [
    "X = df_encoded.drop(columns = \"Loan_Status_Y\")\n",
    "y = df_encoded[\"Loan_Status_Y\"]"
   ]
  },
  {
   "cell_type": "code",
   "execution_count": 16,
   "metadata": {},
   "outputs": [],
   "source": [
    "from sklearn.model_selection import train_test_split\n",
    "X_train, X_test, y_train, y_test = train_test_split(X,y,test_size=0.2)"
   ]
  },
  {
   "cell_type": "code",
   "execution_count": 17,
   "metadata": {},
   "outputs": [
    {
     "data": {
      "text/html": [
       "<div>\n",
       "<style scoped>\n",
       "    .dataframe tbody tr th:only-of-type {\n",
       "        vertical-align: middle;\n",
       "    }\n",
       "\n",
       "    .dataframe tbody tr th {\n",
       "        vertical-align: top;\n",
       "    }\n",
       "\n",
       "    .dataframe thead th {\n",
       "        text-align: right;\n",
       "    }\n",
       "</style>\n",
       "<table border=\"1\" class=\"dataframe\">\n",
       "  <thead>\n",
       "    <tr style=\"text-align: right;\">\n",
       "      <th></th>\n",
       "      <th>ApplicantIncome</th>\n",
       "      <th>CoapplicantIncome</th>\n",
       "      <th>LoanAmount</th>\n",
       "      <th>Loan_Amount_Term</th>\n",
       "      <th>Credit_History</th>\n",
       "      <th>Gender_Male</th>\n",
       "      <th>Married_Yes</th>\n",
       "      <th>Dependents_1</th>\n",
       "      <th>Dependents_2</th>\n",
       "      <th>Dependents_3+</th>\n",
       "      <th>Education_Not Graduate</th>\n",
       "      <th>Self_Employed_Yes</th>\n",
       "      <th>Property_Area_Semiurban</th>\n",
       "      <th>Property_Area_Urban</th>\n",
       "    </tr>\n",
       "  </thead>\n",
       "  <tbody>\n",
       "    <tr>\n",
       "      <td>76</td>\n",
       "      <td>3750</td>\n",
       "      <td>4750.0</td>\n",
       "      <td>176.0</td>\n",
       "      <td>360.0</td>\n",
       "      <td>1.0</td>\n",
       "      <td>1</td>\n",
       "      <td>0</td>\n",
       "      <td>0</td>\n",
       "      <td>0</td>\n",
       "      <td>0</td>\n",
       "      <td>0</td>\n",
       "      <td>0</td>\n",
       "      <td>0</td>\n",
       "      <td>1</td>\n",
       "    </tr>\n",
       "    <tr>\n",
       "      <td>314</td>\n",
       "      <td>2473</td>\n",
       "      <td>1843.0</td>\n",
       "      <td>159.0</td>\n",
       "      <td>360.0</td>\n",
       "      <td>1.0</td>\n",
       "      <td>0</td>\n",
       "      <td>1</td>\n",
       "      <td>0</td>\n",
       "      <td>0</td>\n",
       "      <td>0</td>\n",
       "      <td>0</td>\n",
       "      <td>0</td>\n",
       "      <td>0</td>\n",
       "      <td>0</td>\n",
       "    </tr>\n",
       "    <tr>\n",
       "      <td>605</td>\n",
       "      <td>2400</td>\n",
       "      <td>3800.0</td>\n",
       "      <td>NaN</td>\n",
       "      <td>180.0</td>\n",
       "      <td>1.0</td>\n",
       "      <td>1</td>\n",
       "      <td>1</td>\n",
       "      <td>0</td>\n",
       "      <td>0</td>\n",
       "      <td>0</td>\n",
       "      <td>1</td>\n",
       "      <td>0</td>\n",
       "      <td>0</td>\n",
       "      <td>1</td>\n",
       "    </tr>\n",
       "    <tr>\n",
       "      <td>197</td>\n",
       "      <td>1907</td>\n",
       "      <td>2365.0</td>\n",
       "      <td>120.0</td>\n",
       "      <td>NaN</td>\n",
       "      <td>1.0</td>\n",
       "      <td>0</td>\n",
       "      <td>0</td>\n",
       "      <td>0</td>\n",
       "      <td>0</td>\n",
       "      <td>0</td>\n",
       "      <td>1</td>\n",
       "      <td>0</td>\n",
       "      <td>0</td>\n",
       "      <td>1</td>\n",
       "    </tr>\n",
       "    <tr>\n",
       "      <td>233</td>\n",
       "      <td>8333</td>\n",
       "      <td>0.0</td>\n",
       "      <td>280.0</td>\n",
       "      <td>360.0</td>\n",
       "      <td>1.0</td>\n",
       "      <td>0</td>\n",
       "      <td>0</td>\n",
       "      <td>0</td>\n",
       "      <td>0</td>\n",
       "      <td>0</td>\n",
       "      <td>0</td>\n",
       "      <td>0</td>\n",
       "      <td>1</td>\n",
       "      <td>0</td>\n",
       "    </tr>\n",
       "  </tbody>\n",
       "</table>\n",
       "</div>"
      ],
      "text/plain": [
       "     ApplicantIncome  CoapplicantIncome  LoanAmount  Loan_Amount_Term  \\\n",
       "76              3750             4750.0       176.0             360.0   \n",
       "314             2473             1843.0       159.0             360.0   \n",
       "605             2400             3800.0         NaN             180.0   \n",
       "197             1907             2365.0       120.0               NaN   \n",
       "233             8333                0.0       280.0             360.0   \n",
       "\n",
       "     Credit_History  Gender_Male  Married_Yes  Dependents_1  Dependents_2  \\\n",
       "76              1.0            1            0             0             0   \n",
       "314             1.0            0            1             0             0   \n",
       "605             1.0            1            1             0             0   \n",
       "197             1.0            0            0             0             0   \n",
       "233             1.0            0            0             0             0   \n",
       "\n",
       "     Dependents_3+  Education_Not Graduate  Self_Employed_Yes  \\\n",
       "76               0                       0                  0   \n",
       "314              0                       0                  0   \n",
       "605              0                       1                  0   \n",
       "197              0                       1                  0   \n",
       "233              0                       0                  0   \n",
       "\n",
       "     Property_Area_Semiurban  Property_Area_Urban  \n",
       "76                         0                    1  \n",
       "314                        0                    0  \n",
       "605                        0                    1  \n",
       "197                        0                    1  \n",
       "233                        1                    0  "
      ]
     },
     "execution_count": 17,
     "metadata": {},
     "output_type": "execute_result"
    }
   ],
   "source": [
    "X_train.head()"
   ]
  },
  {
   "cell_type": "code",
   "execution_count": 18,
   "metadata": {},
   "outputs": [],
   "source": [
    "from sklearn.impute import SimpleImputer\n",
    "imp = SimpleImputer(strategy='mean')\n",
    "imp_train = imp.fit(X_train)\n",
    "X_train = imp_train.transform(X_train)\n",
    "X_test = imp_train.transform(X_test)"
   ]
  },
  {
   "cell_type": "code",
   "execution_count": 19,
   "metadata": {},
   "outputs": [],
   "source": [
    "from sklearn.preprocessing import StandardScaler\n",
    "X_train=StandardScaler().fit_transform(X_train)\n",
    "X_test=StandardScaler().fit_transform(X_test)"
   ]
  },
  {
   "cell_type": "code",
   "execution_count": 20,
   "metadata": {},
   "outputs": [],
   "source": [
    "def sigmoid(x):\n",
    "    return 1 / (1 + np.exp(-x))"
   ]
  },
  {
   "cell_type": "code",
   "execution_count": 21,
   "metadata": {},
   "outputs": [],
   "source": [
    "def comput_cost(X, y, theta):\n",
    "    m = len(y)\n",
    "    predictions = sigmoid(np.dot(X,theta))\n",
    "    error = (-y * np.log(predictions)) - ((1-y)*np.log(1-predictions))\n",
    "    cost = 1/m * np.sum(error)\n",
    "    \n",
    "    grad = 1/m * np.dot(X.transpose(),(predictions - y))\n",
    "    return (cost , grad)"
   ]
  },
  {
   "cell_type": "code",
   "execution_count": 22,
   "metadata": {},
   "outputs": [],
   "source": [
    "def gradient_descent(X, y, params, learning_rate, iterations):\n",
    "    m = len(y)\n",
    "    cost_history = []\n",
    "    for i in range(iterations):\n",
    "        cost, grad = comput_cost(X,y,params)\n",
    "        params = params - (learning_rate * grad)\n",
    "        cost_history.append(cost)\n",
    "    return (params,cost_history)"
   ]
  },
  {
   "cell_type": "code",
   "execution_count": 23,
   "metadata": {},
   "outputs": [],
   "source": [
    "y_train = y_train.values.reshape(-1,1)"
   ]
  },
  {
   "cell_type": "code",
   "execution_count": 24,
   "metadata": {},
   "outputs": [
    {
     "name": "stdout",
     "output_type": "stream",
     "text": [
      "Initial Cost:  -119.29048860386139\n",
      "Optimal parameters:  [[ 0.74116161]\n",
      " [ 0.02845465]\n",
      " [-0.17087477]\n",
      " [-0.11432743]\n",
      " [-0.062996  ]\n",
      " [ 1.51065253]\n",
      " [ 0.00718774]\n",
      " [ 0.30575769]\n",
      " [-0.20314954]\n",
      " [ 0.12474209]\n",
      " [-0.06815583]\n",
      " [-0.10388326]\n",
      " [ 0.04229088]\n",
      " [ 0.4700865 ]\n",
      " [ 0.13520057]]\n"
     ]
    }
   ],
   "source": [
    "m1 = X_train.shape[0]\n",
    "n1 = X_train.shape[1]\n",
    "m2 = X_test.shape[0]\n",
    "X_train =  np.append(np.ones((m1,1)),X_train,axis=1)\n",
    "X_test =  np.append(np.ones((m2,1)),X_test,axis=1)\n",
    "n = np.size(X_train, 1)\n",
    "params = np.zeros((n,1))\n",
    "\n",
    "iterations = 1500\n",
    "learning_rate = 0.03\n",
    "(initial_cost,grad) = comput_cost(X_train, y_train, params)\n",
    "print(\"Initial Cost: \", initial_cost)\n",
    "\n",
    "( params_optimal, cost_history) = gradient_descent(X_train, y_train, params, learning_rate, iterations)\n",
    "print(\"Optimal parameters: \", params_optimal)"
   ]
  },
  {
   "cell_type": "code",
   "execution_count": 25,
   "metadata": {},
   "outputs": [
    {
     "name": "stdout",
     "output_type": "stream",
     "text": [
      "Cost hist: [-119.29048860386139, -118.54366181562098, -117.8065857090076, -117.0791157278633, -116.36110906984669, -115.65242470119657, -114.95292336897457, -114.26246761090707, -113.58092176294397, -112.90815196465036, -112.24402616254444, -111.58841411149311, -110.94118737427334, -110.3022193194048, -109.67138511735612, -109.04856173522477, -108.43362792998565, -107.82646424040266, -107.22695297769185, -106.63497821502318, -106.05042577594342, -105.47318322180055, -104.90313983824531, -104.3401866208837, -103.78421626015003, -103.23512312546735, -102.69280324875884, -102.15715430737073, -101.62807560646449, -101.10546806093264, -100.58923417689033, -100.07927803279159, -99.5755052602167, -99.07782302437447, -98.58614000436098, -98.10036637321353, -97.62041377779633, -97.14619531855278, -96.67762552915617, -96.21462035608923, -95.75709713818078, -95.30497458612605, -94.8581727620149, -94.41661305889139, -93.98021818036534, -93.54891212029634, -93.12262014256794, -92.7012687609691, -92.28478571919845, -91.8730999710057, -91.4661416604832, -91.06384210251969, -90.6661337634272, -90.27295024175086, -89.88422624927101, -89.49989759220497, -89.11990115261644, -88.74417487003858, -88.37265772331655, -88.00528971267461, -87.64201184201204, -87.2827661014316, -86.92749545000406, -86.57614379877083, -86.22865599398746, -85.88497780060928, -85.5450558860207, -85.20883780400878, -84.87627197898185, -84.54730769043287, -84.22189505764806, -83.89998502465933, -83.58152934544086, -83.26648056934782, -82.95479202679682, -82.64641781518601, -82.34131278505353, -82.03943252647257, -81.7407333556806, -81.44517230194137, -81.15270709463661, -80.86329615058578, -80.57689856159088, -80.29347408220396, -80.01298311771484, -79.73538671235586, -79.46064653772127, -79.18872488139833, -78.91958463580693, -78.65318928724527, -78.38950290513819, -78.12849013148542, -77.87011617050673, -77.6143467784806, -77.36114825377395, -77.11048742705928, -76.86233165171686, -76.61664879441787, -76.37340722588694, -76.13257581183946, -75.89412390409205, -75.65802133184214, -75.42423839311428, -75.19274584637024, -74.96351490227964, -74.73651721564828, -74.51172487750163, -74.28911040732045, -74.06864674542531, -73.8503072455081, -73.63406566730711, -73.41989616942303, -73.20777330227361, -72.99767200118389, -72.78956757960974, -72.5834357224918, -72.3792524797378, -72.17699425983015, -71.97663782355694, -71.7781602778636, -71.58153906982284, -71.38675198072083, -71.1937771202571, -71.00259292085576, -70.81317813208635, -70.62551181519152, -70.43957333771992, -70.25534236826195, -70.07279887128624, -69.891923102075, -69.71269560175647, -69.5350971924318, -69.35910897239535, -69.18471231144589, -69.01188884628705, -68.84062047601536, -68.67088935769404, -68.50267790201056, -68.33596876901673, -68.17074486394917, -68.00698933312903, -67.84468555993877, -67.68381716087515, -67.52436798167608, -67.36632209352064, -67.20966378930007, -67.05437757995891, -66.90044819090438, -66.74786055848286, -66.59659982652214, -66.44665134293801, -66.29800065640387, -66.1506335130823, -66.0045358534168, -65.85969380898344, -65.71609369939998, -65.57372202929251, -65.43256548531757, -65.292610933239, -65.15384541505846, -65.01625614619839, -64.87983051273646, -64.74455606869037, -64.61042053335215, -64.47741178867079, -64.34551787668241, -64.2147269969868, -64.08502750426972, -63.95640790586965, -63.82885685938855, -63.702363170345265, -63.57691578987121, -63.45250381244709, -63.329116473680244, -63.206743148121326, -63.08537334711996, -62.964996716718495, -62.84560303558292, -62.727182212970426, -62.60972428673283, -62.49321942135509, -62.3776579060284, -62.26303015275688, -62.14932669449758, -62.03653818333275, -61.924655388674296, -61.81366919549903, -61.7035706026149, -61.59435072095702, -61.48600077191331, -61.37851208567888, -61.27187609963882, -61.16608435677874, -61.061128504122514, -60.95700029119683, -60.85369156852182, -60.75119428612756, -60.64950049209559, -60.54860233112538, -60.448492043124894, -60.34916196182501, -60.250604513417294, -60.15281221521475, -60.055777674334905, -59.95949358640507, -59.863952734289164, -59.769147986835904, -59.67507229764754, -59.58171870386939, -59.48908032499922, -59.3971503617163, -59.30592209472989, -59.21538888364663, -59.12554416585657, -59.03638145543736, -58.94789434207656, -58.86007649001131, -58.77292163698554, -58.686423593223886, -58.600576240422384, -58.515373530755525, -58.43080948589927, -58.34687819606983, -58.26357381907796, -58.180890579398415, -58.09882276725426, -58.01736473771584, -57.93651090981423, -57.856255765668614, -57.776593849627616, -57.69751976742428, -57.61902818534436, -57.54111382940772, -57.463771484562685, -57.38699599389302, -57.310782257837275, -57.235125233420554, -57.16001993349809, -57.08546142601058, -57.01144483325129, -56.93796533114445, -56.86501814853464, -56.79259856648755, -56.72070191760109, -56.64932358532741, -56.5784590033052, -56.50810365470226, -56.43825307156808, -56.36890283419634, -56.300048570497175, -56.231685955378765, -56.16381071013857, -56.096418601863654, -56.02950544283999, -55.96306708997082, -55.89709944420366, -55.831598449965895, -55.766560094608934, -55.70198040786056, -55.637855461285476, -55.57418136775392, -55.51095428091812, -55.448170394696604, -55.385825942765926, -55.323917198060215, -55.26244047227777, -55.201392115395116, -55.140768515188164, -55.08056609676024, -55.020781322077305, -54.96141068950951, -54.90245073337989, -54.84389802351924, -54.785749164827756, -54.72800079684267, -54.670649593312454, -54.613692261776976, -54.557125543153674, -54.500946211329776, -54.445151072760275, -54.38973696607169, -54.334700761671414, -54.28003936136276, -54.22574969796524, -54.17182873494049, -54.11827346602329, -54.06508091485783, -54.01224813463927, -53.959772207760004, -53.90765024546122, -53.85587938748914, -53.80445680175615, -53.753379684006575, -53.702645257487234, -53.652250772622445, -53.602193506693546, -53.55247076352298, -53.503079873162605, -53.454018191586286, -53.405283100386896, -53.35687200647718, -53.308782341795066, -53.261011563012744, -53.21355715124971, -53.16641661178997, -53.11958747380278, -53.07306729006741, -53.02685363670149, -52.98094411289302, -52.93533634063616, -52.89002796447041, -52.84501665122329, -52.80030008975661, -52.75587599071597, -52.71174208628378, -52.667896129935365, -52.624335896198474, -52.58105918041594, -52.5380637985115, -52.49534758675855, -52.452908401552286, -52.41074411918449, -52.36885263562153, -52.327231866285075, -52.28587974583591, -52.24479422796036, -52.20397328515966, -52.16341490854188, -52.123117107616835, -52.08307791009336, -52.04329536167942, -52.00376752588467, -51.96449248382566, -51.9254683340335, -51.88669319226397, -51.84816519131014, -51.809882480817265, -51.77184322710024, -51.73404561296315, -51.696487837521346, -51.65916811602553, -51.62208467968833, -51.585235775512885, -51.548619666123685, -51.51223462959948, -51.47607895930841, -51.44015096374497, -51.40444896636937, -51.36897130544855, -51.333716333899375, -51.29868241913381, -51.26386794290594, -51.229271301160786, -51.194890903885316, -51.16072517496097, -51.126772552018174, -51.0930314862926, -51.059500442483255, -51.02617789861222, -50.99306234588614, -50.96015228855947, -50.92744624379933, -50.894942741552, -50.86264032441107, -50.83053754748723, -50.79863297827953, -50.76692519654828, -50.73541279418951, -50.70409437511078, -50.672968555108774, -50.642033961748105, -50.61128923424161, -50.580733023332265, -50.55036399117626, -50.520180811227675, -50.49018216812437, -50.46036675757534, -50.43073328624944, -50.40128047166519, -50.37200704208221, -50.342911736393674, -50.31399330402022, -50.28525050480494, -50.25668210890974, -50.228286896712824, -50.20006365870741, -50.1720111954017, -50.14412831721983, -50.11641384440417, -50.08886660691865, -50.06148544435323, -50.034269205829496, -50.00721674990732, -49.98032694449257, -49.953598666745975, -49.927030802992924, -49.90062224863442, -49.874371908058926, -49.84827869455529, -49.82234153022671, -49.796559345905536, -49.77093108106923, -49.74545568375706, -49.72013211048794, -49.69495932617913, -49.66993630406575, -49.64506202562134, -49.620335480479305, -49.595755666355146, -49.57132158896959, -49.54703226197268, -49.522886706868654, -49.49888395294151, -49.475023037181735, -49.451303004213486, -49.42772290622282, -49.404281802886665, -49.38097876130251, -49.357812855918965, -49.334783168466934, -49.31188878789184, -49.28912881028615, -49.26650233882318, -49.24400848369111, -49.221646362028025, -49.199415097857624, -49.177313822025575, -49.15534167213654, -49.133497792491994, -49.11178133402856, -49.090191454257194, -49.06872731720286, -49.04738809334496, -49.026172959558366, -49.005081099055076, -48.98411170132658, -48.96326396208665, -48.94253708321496, -48.92193027270124, -48.90144274458989, -48.8810737189254, -48.860822421698124, -48.84068808479094, -48.82066994592605, -48.800767248612715, -48.78097924209539, -48.76130518130239, -48.74174432679511, -48.72229594471783, -48.70295930674794, -48.68373369004683, -48.66461837721118, -48.64561265622474, -48.62671582041076, -48.60792716838474, -48.589246004007826, -48.5706716363405, -48.55220337959697, -48.53384055309986, -48.51558248123547, -48.497428493409416, -48.4793779240028, -48.46143011232874, -48.44358440258948, -48.42584014383383, -48.40819668991498, -48.39065339944903, -48.373209635773485, -48.35586476690674, -48.33861816550738, -48.32146920883435, -48.30441727870734, -48.28746176146752, -48.2706020479388, -48.253837533389444, -48.23716761749395, -48.22059170429549, -48.20410920216865, -48.18771952378246, -48.17142208606392, -48.15521631016188, -48.13910162141116, -48.123077449297114, -48.10714322742065, -48.09129839346335, -48.0755423891531, -48.059874660230086, -48.04429465641304, -48.02880183136579, -48.01339564266428, -47.99807555176377, -47.982841023966486, -47.967691528389416, -47.9526265379326, -47.93764552924762, -47.92274798270645, -47.90793338237057, -47.89320121596037, -47.87855097482494, -47.86398215391206, -47.84949425173848, -47.835086770360554, -47.82075921534513, -47.80651109574066, -47.7923419240487, -47.778251216195535, -47.76423849150428, -47.75030327266701, -47.73644508571737, -47.72266346000329, -47.70895792816005, -47.69532802608355, -47.68177329290391, -47.66829327095917, -47.654887505769445, -47.64155554601113, -47.62829694349151, -47.61511125312342, -47.601998032900404, -47.588956843871784, -47.57598725011831, -47.56308881872776, -47.55026111977088, -47.53750372627761, -47.52481621421338, -47.51219816245574, -47.4996491527712, -47.48716876979228, -47.47475660099468, -47.4624122366748, -47.45013526992738, -47.43792529662336, -47.42578191538801, -47.413704727579145, -47.40169333726565, -47.38974735120606, -47.377866378827584, -47.36605003220503, -47.35429792604012, -47.342609677640894, -47.33098490690143, -47.31942323628156, -47.307924290786886, -47.29648769794903, -47.2851130878059, -47.27380009288229, -47.26254834817059, -47.251357491111605, -47.24022716157572, -47.22915700184406, -47.21814665658989, -47.207195772860175, -47.19630400005741, -47.18547098992132, -47.1746963965111, -47.16397987618753, -47.15332108759537, -47.14271969164592, -47.13217535149965, -47.121687732549056, -47.111256502401694, -47.10088133086328, -47.09056188992098, -47.08029785372683, -47.07008889858141, -47.05993470291744, -47.04983494728374, -47.03978931432922, -47.02979748878703, -47.01985915745885, -47.00997400919929, -47.00014173490051, -46.99036202747686, -46.980634581849785, -46.97095909493268, -46.9613352656161, -46.95176279475286, -46.942241385143525, -46.93277074152175, -46.92335057053995, -46.91398058075509, -46.90466048261438, -46.89538998844135, -46.88616881242192, -46.876996670590636, -46.86787328081693, -46.858798362791624, -46.849771638013486, -46.84079282977586, -46.83186166315349, -46.82297786498944, -46.81414116388206, -46.80535129017212, -46.79660797593007, -46.78791095494337, -46.77925996270388, -46.77065473639549, -46.76209501488175, -46.7535805386936, -46.745111050017265, -46.73668629268223, -46.728306012149254, -46.719969955498605, -46.711677871418274, -46.70342951019235, -46.69522462368952, -46.68706296535153, -46.678944290181946, -46.67086835473481, -46.662834917103545, -46.65484373690987, -46.646894575292734, -46.638987194897624, -46.63112135986557, -46.62329683582251, -46.615513389868745, -46.60777079056829, -46.6000688079385, -46.59240721343965, -46.584785779964726, -46.57720428182926, -46.569662494761054, -46.56216019589037, -46.55469716373981, -46.54727317821458, -46.53988802059262, -46.532541473514975, -46.52523332097608, -46.51796334831432, -46.510731342202455, -46.50353709063828, -46.496380382935364, -46.489261009713694, -46.48217876289057, -46.475133435671495, -46.468124822541206, -46.461152719254635, -46.45421692282811, -46.44731723153049, -46.440453444874485, -46.43362536360796, -46.4268327897053, -46.42007552635901, -46.41335337797108, -46.40666615014471, -46.40001364967599, -46.39339568454554, -46.38681206391044, -46.380262598095975, -46.37374709858769, -46.367265378023305, -46.36081725018479, -46.3544025299905, -46.34802103348736, -46.341672577843106, -46.33535698133861, -46.32907406336024, -46.32282364439222, -46.31660554600925, -46.3104195908689, -46.30426560270437, -46.29814340631701, -46.29205282756912, -46.285993693376724, -46.2799658317023, -46.27396907154784, -46.26800324294763, -46.26206817696133, -46.256163705667035, -46.25028966215427, -46.24444588051731, -46.23863219584824, -46.232848444230335, -46.227094462731245, -46.22137008939651, -46.21567516324283, -46.21000952425165, -46.20437301336262, -46.19876547246712, -46.19318674440195, -46.18763667294297, -46.18211510279876, -46.17662187960452, -46.17115684991562, -46.16571986120177, -46.16031076184068, -46.15492940111209, -46.149575629191794, -46.1442492971456, -46.1389502569235, -46.13367836135373, -46.128433464136975, -46.12321541984054, -46.118024083892706, -46.11285931257691, -46.1077209630262, -46.1026088932175, -46.09752296196619, -46.09246302892042, -46.08742895455575, -46.082420600169606, -46.077437827875976, -46.07248050059994, -46.067548482072375, -46.06264163682474, -46.05775983018369, -46.05290292826603, -46.04807079797339, -46.043263306987186, -46.03848032376353, -46.033721717528124, -46.02898735827125, -46.02427711674285, -46.01959086444746, -46.014928473639436, -46.01028981731799, -46.00567476922237, -46.00108320382711, -45.99651499633714, -45.991970022683226, -45.987448159517136, -45.982949284207, -45.978473274832744, -45.974020010181455, -45.96958936974276, -45.96518123370444, -45.960795482947766, -45.956431999043176, -45.952090664245745, -45.94777136149088, -45.94347397438982, -45.93919838722546, -45.934944484947934, -45.93071215317035, -45.926501278164615, -45.92231174685716, -45.91814344682477, -45.91399626629046, -45.909870094119334, -45.90576481981448, -45.90168033351289, -45.89761652598154, -45.893573288613226, -45.88955051342269, -45.88554809304265, -45.88156592071986, -45.877603890311214, -45.873661896279984, -45.8697398336918, -45.86583759821097, -45.86195508609672, -45.8580921941993, -45.85424881995638, -45.85042486138936, -45.84662021709953, -45.8428347862646, -45.83906846863503, -45.83532116453031, -45.831592774835585, -45.82788320099793, -45.82419234502295, -45.820520109471175, -45.81686639745467, -45.81323111263358, -45.8096141592126, -45.80601544193774, -45.80243486609277, -45.798872337496014, -45.79532776249696, -45.7918010479729, -45.78829210132572, -45.78480083047863, -45.78132714387284, -45.777870950464504, -45.774432159721314, -45.77101068161953, -45.76760642664073, -45.76421930576864, -45.76084923048614, -45.75749611277206, -45.75415986509823, -45.75084040042632, -45.747537632204924, -45.74425147436649, -45.740981841324334, -45.737728647969774, -45.73449180966903, -45.731271242260476, -45.728066862051605, -45.72487858581622, -45.72170633079155, -45.71855001467542, -45.71540955562343, -45.71228487224611, -45.70917588360623, -45.70608250921595, -45.70300466903409, -45.699942283463415, -45.696895273347955, -45.69386355997029, -45.69084706504882, -45.687845710735246, -45.684859419611804, -45.68188811468872, -45.67893171940155, -45.67599015760872, -45.67306335358881, -45.67015123203807, -45.66725371806793, -45.66437073720246, -45.661502215375776, -45.65864807892977, -45.655808254611436, -45.65298266957054, -45.65017125135715, -45.64737392791924, -45.644590627600294, -45.64182127913691, -45.63906581165642, -45.636324154674575, -45.6335962380932, -45.63088199219786, -45.628181347655556, -45.625494235512456, -45.622820587191626, -45.62016033449072, -45.61751340957983, -45.61487974499916, -45.612259273656846, -45.60965192882685, -45.60705764414658, -45.60447635361491, -45.60190799158994, -45.59935249278684, -45.59680979227574, -45.594279825479674, -45.59176252817239, -45.589257836476314, -45.58676568686045, -45.58428601613841, -45.58181876146622, -45.579363860340386, -45.57692125059592, -45.57449087040425, -45.57207265827119, -45.569666553035134, -45.567272493864905, -45.56489042025792, -45.56252027203819, -45.560161989354434, -45.55781551267812, -45.55548078280163, -45.55315774083627, -45.550846328210504, -45.54854648666801, -45.54625815826585, -45.54398128537263, -45.5417158106667, -45.53946167713429, -45.537218828067694, -45.534987207063544, -45.53276675802097, -45.53055742513987, -45.5283591529191, -45.52617188615477, -45.52399556993849, -45.521830149655635, -45.51967557098368, -45.51753177989036, -45.51539872263222, -45.51327634575268, -45.511164596080505, -45.5090634207281, -45.50697276708991, -45.50489258284069, -45.502822815933996, -45.50076341460044, -45.498714327346185, -45.49667550295126, -45.49464689046809, -45.49262843921977, -45.490620098798615, -45.488621819064576, -45.48663355014365, -45.48465524242639, -45.48268684656635, -45.480728313478586, -45.47877959433812, -45.47684064057848, -45.47491140389019, -45.47299183621927, -45.47108188976582, -45.469181516982445, -45.46729067057299, -45.46540930349094, -45.463537368937985, -45.46167482036275, -45.45982161145919, -45.45797769616531, -45.45614302866171, -45.45431756337018, -45.45250125495243, -45.450694058308585, -45.44889592857586, -45.44710682112725, -45.445326691570145, -45.44355549574504, -45.441793189724095, -45.440039729809946, -45.43829507253429, -45.436559174656644, -45.43483199316302, -45.433113485264684, -45.43140360839676, -45.42970232021711, -45.428009578604915, -45.42632534165956, -45.424649567699326, -45.422982215260056, -45.421323243094115, -45.41967261016899, -45.418030275666176, -45.4163961989799, -45.41477033971599, -45.41315265769061, -45.41154311292907, -45.409941665664746, -45.408348276337776, -45.40676290559395, -45.405185514283616, -45.40361606346039, -45.40205451438015, -45.40050082849976, -45.39895496747608, -45.39741689316474, -45.395886567619065, -45.39436395308898, -45.39284901201986, -45.39134170705144, -45.389842001016795, -45.38834985694113, -45.386865238040876, -45.385388107722434, -45.38391842958124, -45.38245616740068, -45.38100128515099, -45.37955374698828, -45.378113517253425, -45.376680560471115, -45.375254841348784, -45.37383632477557, -45.37242497582136, -45.371020759735714, -45.36962364194695, -45.36823358806101, -45.36685056386069, -45.36547453530445, -45.36410546852551, -45.36274332983095, -45.36138808570061, -45.36003970278624, -45.35869814791055, -45.35736338806612, -45.35603539041469, -45.35471412228598, -45.35339955117696, -45.35209164475082, -45.350790370836016, -45.34949569742551, -45.34820759267569, -45.34692602490558, -45.34565096259589, -45.34438237438814, -45.34312022908378, -45.341864495643286, -45.340615143185346, -45.339372140985915, -45.33813545847733, -45.336905065247585, -45.335680931039356, -45.33446302574914, -45.333251319426516, -45.332045782273234, -45.33084638464237, -45.32965309703752, -45.328465890111964, -45.32728473466791, -45.32610960165554, -45.32494046217235, -45.323777287462235, -45.32262004891474, -45.321468718064295, -45.32032326658933, -45.31918366631153, -45.318049889195166, -45.3169219073461, -45.3157996930112, -45.314683218577485, -45.31357245657138, -45.31246737965794, -45.31136796064013, -45.31027417245806, -45.309185988188204, -45.30810338104275, -45.30702632436876, -45.30595479164747, -45.304888756493625, -45.30382819265465, -45.30277307401002, -45.30172337457049, -45.30067906847743, -45.29964013000207, -45.29860653354479, -45.29757825363452, -45.296555264927925, -45.295537542208756, -45.29452506038724, -45.29351779449925, -45.29251571970573, -45.291518811292036, -45.290527044667186, -45.289540395363225, -45.28855883903463, -45.28758235145753, -45.28661090852917, -45.28564448626709, -45.28468306080879, -45.28372660841067, -45.28277510544777, -45.28182852841288, -45.28088685391603, -45.27995005868386, -45.27901811955888, -45.27809101349903, -45.27716871757692, -45.276251208979254, -45.27533846500624, -45.27443046307097, -45.27352718069883, -45.27262859552683, -45.271734685303144, -45.27084542788637, -45.26996080124505, -45.26908078345701, -45.26820535270881, -45.26733448729519, -45.26646816561841, -45.2656063661878, -45.264749067619064, -45.26389624863382, -45.26304788805893, -45.262203964826035, -45.261364457971, -45.26052934663324, -45.25969861005529, -45.258872227582245, -45.25805017866116, -45.257232442840525, -45.256418999769814, -45.25560982919878, -45.25480491097712, -45.254004225053734, -45.25320775147644, -45.252415470391234, -45.251627362041916, -45.25084340676944, -45.25006358501159, -45.24928787730228, -45.24851626427113, -45.24774872664298, -45.246985245237376, -45.246225800968006, -45.245470374842306, -45.2447189479609, -45.243971501517116, -45.24322801679648, -45.242488475176344, -45.241752858125245, -45.241021147202524, -45.24029332405781, -45.23956937043058, -45.23884926814966, -45.23813299913274, -45.237420545385966, -45.23671188900341, -45.23600701216666, -45.235305897144336, -45.234608526291645, -45.233914882049895, -45.233224946946116, -45.23253870359254, -45.2318561346862, -45.23117722300842, -45.23050195142451, -45.229830302883165, -45.22916226041615, -45.228497807137806, -45.22783692624466, -45.22717960101494, -45.22652581480821, -45.22587555106491, -45.22522879330593, -45.224585525132234, -45.223945730224386, -45.22330939234217, -45.22267649532426, -45.22204702308754, -45.221420959627046, -45.22079828901533, -45.2201789954021, -45.21956306301391, -45.21895047615366, -45.2183412192002, -45.217735276608025, -45.21713263290679, -45.21653327270101, -45.21593718066954, -45.21534434156538, -45.21475474021509, -45.21416836151856, -45.21358519044857, -45.21300521205037, -45.21242841144144, -45.211854773810956, -45.21128428441954, -45.21071692859884, -45.210152691751155, -45.20959155934911, -45.209033516935264, -45.20847855012175, -45.20792664458993, -45.207377786090056, -45.206831960440844, -45.206289153529205, -45.20574935130989, -45.205212539805046, -45.20467870510398, -45.204147833362754, -45.20361991080388, -45.20309492371593, -45.20257285845326, -45.2020537014356, -45.20153743914779, -45.20102405813942, -45.200513545024435, -45.200005886480945, -45.19950106925074, -45.19899908013912, -45.19849990601442, -45.19800353380779, -45.19750995051285, -45.197019143185344, -45.196531098942856, -45.19604580496448, -45.19556324849051, -45.195083416822136, -45.19460629732109, -45.1941318774094, -45.193660144569044, -45.19319108634168, -45.19272469032828, -45.192260944188895, -45.191799835642314, -45.19134135246577, -45.19088548249468, -45.190432213622294, -45.18998153379941, -45.18953343103418, -45.18908789339163, -45.18864490899357, -45.18820446601818, -45.187766552699756, -45.187331157328416, -45.1868982682499, -45.18646787386516, -45.186039962630154, -45.18561452305558, -45.185191543706544, -45.18477101320232, -45.184352920216114, -45.18393725347467, -45.18352400175819, -45.183113153899875, -45.182704698785706, -45.18229862535433, -45.181894922596555, -45.181493579555294, -45.181094585325155, -45.180697929052265, -45.18030359993399, -45.179911587218655, -45.17952188020533, -45.17913446824353, -45.178749340733006, -45.178366487123455, -45.17798589691428, -45.17760755965434, -45.17723146494172, -45.17685760242349, -45.17648596179539, -45.17611653280168, -45.175749305234824, -45.175384268935304, -45.175021413791306, -45.17466072973859, -45.174302206760174, -45.17394583488606, -45.17359160419311, -45.173239504804755, -45.172889526890714, -45.17254166066689, -45.172195896394975, -45.171852224382356, -45.17151063498185, -45.171171118591424, -45.170833665654044, -45.1704982666574, -45.170164912133735, -45.169833592659515, -45.16950429885539, -45.169177021385764, -45.16885175095876, -45.168528478325904, -45.16820719428189, -45.16788788966446, -45.16757055535409, -45.16725518227385, -45.166941761389175, -45.1666302837076, -45.16632074027865, -45.16601312219354, -45.16570742058504, -45.165403626627196, -45.16510173153521, -45.16480172656516, -45.16450360301383, -45.164207352218526, -45.16391296555686, -45.163620434446514, -45.16332975034513, -45.163040904750005, -45.16275388919799, -45.16246869526525, -45.16218531456702, -45.16190373875755, -45.161623959529784, -45.16134596861521, -45.16106975778368, -45.16079531884324, -45.16052264363986, -45.160251724057375, -45.15998255201717, -45.15971511947809, -45.1594494184362, -45.15918544092465, -45.15892317901342, -45.15866262480922, -45.15840377045524, -45.158146608131034, -45.1578911300523, -45.15763732847071, -45.15738519567377, -45.15713472398452, -45.15688590576158, -45.156638733398744, -45.156393199324974, -45.156149296004116, -45.155907015934815, -45.15566635165032, -45.15542729571824, -45.155189840740505, -45.1549539793531, -45.154719704225926, -45.15448700806267, -45.15425588360058, -45.15402632361033, -45.15379832089587, -45.15357186829428, -45.15334695867549, -45.15312358494232, -45.152901740030124, -45.15268141690677, -45.152462608572385, -45.152245308059285, -45.15202950843177, -45.15181520278592, -45.15160238424955, -45.15139104598199, -45.15118118117391, -45.15097278304723, -45.15076584485493, -45.15056035988092, -45.15035632143986, -45.150153722877015, -45.149952557568135, -45.14975281891931, -45.149554500366776, -45.1493575953768, -45.14916209744554, -45.1489680000989, -45.14877529689236, -45.14858398141084, -45.14839404726863, -45.148205488109106, -45.14801829760476, -45.14783246945685, -45.14764799739552, -45.14746487517939, -45.14728309659566, -45.14710265545978, -45.14692354561544, -45.14674576093437, -45.14656929531625, -45.146394142688514, -45.14622029700628, -45.14604775225216, -45.14587650243619, -45.14570654159563, -45.14553786379491, -45.14537046312544, -45.14520433370547, -45.14503946967998, -45.14487586522065, -45.14471351452553, -45.144552411819085, -45.144392551352, -45.144233927401054, -45.144076534269026, -45.143920366284505, -45.14376541780186, -45.143611683201, -45.14345915688739, -45.1433078332918, -45.14315770687026, -45.143008772103926, -45.14286102349894, -45.14271445558633, -45.142569062921886, -45.142424840086036, -45.142281781683714, -45.142139882344274, -45.14199913672138, -45.141859539492856, -45.14172108536057, -45.14158376905035, -45.14144758531185, -45.141312528918455, -45.1411785946671, -45.141045777378295, -45.14091407189587, -45.14078347308692, -45.14065397584173, -45.1405255750736, -45.140398265718815, -45.140272042736434, -45.140146901108245, -45.14002283583869, -45.139899841954666, -45.13977791450549, -45.139657048562775, -45.13953723922032, -45.13941848159396, -45.139300770821585, -45.1391841020629, -45.13906847049937, -45.13895387133418, -45.13884029979201, -45.13872775111905, -45.13861622058283, -45.138505703472134, -45.1383961950969, -45.13828769078814, -45.138180185897816, -45.13807367579873, -45.137968155884465, -45.13786362156926, -45.137760068287896, -45.137657491495666, -45.1375558866682, -45.13745524930141, -45.137355574911375, -45.1372568590343, -45.13715909722631, -45.1370622850635, -45.1369664181417, -45.1368714920765, -45.136777502503044, -45.136684445076064, -45.136592315469706, -45.13650110937744, -45.13641082251196, -45.13632145060521, -45.13623298940806, -45.1361454346905, -45.13605878224132, -45.13597302786815, -45.13588816739731, -45.135804196673774, -45.135721111561026, -45.135638907941015, -45.13555758171405, -45.13547712879872, -45.13539754513181, -45.135318826668204, -45.13524096938079, -45.135163969260454, -45.13508782231589, -45.13501252457357, -45.13493807207763, -45.1348644608899, -45.13479168708961, -45.13471974677352, -45.134648636055736, -45.1345783510676, -45.13450888795769, -45.13444024289169, -45.13437241205236, -45.13430539163934, -45.13423917786919, -45.13417376697534, -45.13410915520781, -45.13404533883337, -45.133982314135295, -45.13392007741339, -45.133858624983866, -45.13379795317925, -45.13373805834836, -45.13367893685618, -45.1336205850838, -45.133562999428364, -45.13350617630298, -45.13345011213661, -45.13339480337409, -45.1333402464759, -45.13328643791831, -45.13323337419307, -45.133181051807526, -45.13312946728446, -45.133078617162006, -45.133028497993635, -45.13297910634804, -45.132930438809076, -45.132882491975714, -45.132835262461946, -45.13278874689669, -45.132742941923794, -45.13269784420191, -45.13265345040443, -45.13260975721942, -45.13256676134961, -45.13252445951223, -45.132482848439, -45.13244192487605, -45.13240168558387, -45.13236212733725, -45.13232324692513, -45.13228504115066, -45.13224750683106, -45.132210640797524, -45.132174439895294, -45.132138900983406, -45.132104020934776, -45.13206979663609, -45.13203622498769, -45.1320033029036, -45.13197102731139, -45.131939395152145, -45.13190840338042, -45.13187804896413, -45.13184832888453, -45.13181924013616, -45.13179077972673, -45.13176294467713, -45.13173573202128, -45.13170913880618, -45.131683162091775, -45.13165779895089, -45.13163304646926, -45.13160890174532, -45.13158536189031, -45.13156242402808, -45.13154008529514, -45.13151834284056, -45.13149719382583, -45.13147663542499, -45.13145666482436, -45.131437279222666, -45.13141847583088, -45.131400251872115, -45.13138260458179, -45.13136553120731, -45.13134902900816, -45.13133309525584, -45.13131772723377, -45.13130292223724, -45.1312886775734, -45.131274990561174, -45.13126185853117, -45.13124927882572, -45.131237248798726]\n",
      "1500\n"
     ]
    }
   ],
   "source": [
    "print(\"Cost hist:\",cost_history)\n",
    "print(len(cost_history))"
   ]
  },
  {
   "cell_type": "code",
   "execution_count": 26,
   "metadata": {},
   "outputs": [
    {
     "data": {
      "image/png": "[encoded data removed]",
      "text/plain": [
       "<Figure size 432x288 with 1 Axes>"
      ]
     },
     "metadata": {
      "needs_background": "light"
     },
     "output_type": "display_data"
    }
   ],
   "source": [
    "plt.figure()\n",
    "plt.plot(range(len(cost_history)), cost_history, 'r')\n",
    "plt.xlabel(\"Number of Iterations\")\n",
    "plt.ylabel(\"Cost\")\n",
    "plt.show()"
   ]
  },
  {
   "cell_type": "code",
   "execution_count": 27,
   "metadata": {},
   "outputs": [
    {
     "data": {
      "text/plain": [
       "array([[ 1.        , -0.06327606, -0.75609469, ..., -0.34377583,\n",
       "        -0.84162541, -0.60553007],\n",
       "       [ 1.        , -0.22485214,  0.67674081, ...,  2.90887237,\n",
       "        -0.84162541,  1.65144565],\n",
       "       [ 1.        , -0.41634972, -0.75609469, ..., -0.34377583,\n",
       "        -0.84162541,  1.65144565],\n",
       "       ...,\n",
       "       [ 1.        , -0.45936187,  0.57456416, ..., -0.34377583,\n",
       "         1.18817705, -0.60553007],\n",
       "       [ 1.        , -0.06888634, -0.75609469, ..., -0.34377583,\n",
       "        -0.84162541, -0.60553007],\n",
       "       [ 1.        , -0.51527767,  0.33063957, ..., -0.34377583,\n",
       "        -0.84162541,  1.65144565]])"
      ]
     },
     "execution_count": 27,
     "metadata": {},
     "output_type": "execute_result"
    }
   ],
   "source": [
    "(X_test)"
   ]
  },
  {
   "cell_type": "code",
   "execution_count": 28,
   "metadata": {},
   "outputs": [
    {
     "name": "stderr",
     "output_type": "stream",
     "text": [
      "C:\\Users\\venna phaneendra\\Anaconda3\\lib\\site-packages\\sklearn\\utils\\validation.py:724: DataConversionWarning: A column-vector y was passed when a 1d array was expected. Please change the shape of y to (n_samples, ), for example using ravel().\n",
      "  y = column_or_1d(y, warn=True)\n"
     ]
    },
    {
     "name": "stdout",
     "output_type": "stream",
     "text": [
      "0.8373983739837398\n"
     ]
    }
   ],
   "source": [
    "from sklearn.linear_model import LogisticRegression\n",
    "clf = LogisticRegression(random_state=0, solver='lbfgs',multi_class='multinomial').fit(X_train, y_train)\n",
    "y_pred=clf.predict(X_test)\n",
    "prob =clf.predict_proba(X_test)\n",
    "\n",
    "print(clf.score(X_test, y_test))"
   ]
  },
  {
   "cell_type": "code",
   "execution_count": 29,
   "metadata": {},
   "outputs": [
    {
     "name": "stdout",
     "output_type": "stream",
     "text": [
      "[[19 14]\n",
      " [ 6 84]]\n"
     ]
    }
   ],
   "source": [
    "from sklearn.metrics import confusion_matrix \n",
    "\n",
    "cf = confusion_matrix(y_test, y_pred)\n",
    "print(cf)"
   ]
  },
  {
   "cell_type": "code",
   "execution_count": null,
   "metadata": {},
   "outputs": [],
   "source": []
  }
 ],
 "metadata": {
  "kernelspec": {
   "display_name": "Python 3",
   "language": "python",
   "name": "python3"
  },
  "language_info": {
   "codemirror_mode": {
    "name": "ipython",
    "version": 3
   },
   "file_extension": ".py",
   "mimetype": "text/x-python",
   "name": "python",
   "nbconvert_exporter": "python",
   "pygments_lexer": "ipython3",
   "version": "3.7.4"
  }
 },
 "nbformat": 4,
 "nbformat_minor": 2
}
